{
 "cells": [
  {
   "cell_type": "markdown",
   "metadata": {},
   "source": [
    "__THE BATTLE OF NEIGHBORHOODS__"
   ]
  },
  {
   "cell_type": "markdown",
   "metadata": {},
   "source": [
    "__INTRODUCTION__"
   ]
  },
  {
   "cell_type": "markdown",
   "metadata": {},
   "source": [
    "The purpose project in order to facilitate the people with all their needs and provide a risk free happy life,\n",
    "most of the people migrate from on place to other places on the basis of their job,education,custom lifestyles purposes.\n",
    "The main aim of my project is to provide best suitable lifestyle to the people based on their intrests.\n",
    "In this project I have choosen to comapare Canada and Toranto."
   ]
  },
  {
   "cell_type": "markdown",
   "metadata": {},
   "source": [
    "__PROBLEM__"
   ]
  },
  {
   "cell_type": "markdown",
   "metadata": {},
   "source": [
    "The major concern of the people is house price ranges and school fees when they migrate to the new place.So in order to get a better place I have choosed this problem"
   ]
  },
  {
   "cell_type": "markdown",
   "metadata": {},
   "source": [
    "__SOLVED PROBLEMS__"
   ]
  },
  {
   "cell_type": "markdown",
   "metadata": {},
   "source": [
    "1)House hold rents\n",
    "\n",
    "2)School fess"
   ]
  },
  {
   "cell_type": "markdown",
   "metadata": {},
   "source": [
    "__LOCATIONS PREFFERED__"
   ]
  },
  {
   "cell_type": "markdown",
   "metadata": {},
   "source": [
    "Toranto and Canada"
   ]
  },
  {
   "cell_type": "markdown",
   "metadata": {},
   "source": [
    "__DATA ACQUIRED__"
   ]
  },
  {
   "cell_type": "markdown",
   "metadata": {},
   "source": [
    "Used FOUR-SQUARE-API for Data gathring"
   ]
  },
  {
   "cell_type": "markdown",
   "metadata": {},
   "source": [
    "__LIMITATIONS__"
   ]
  },
  {
   "cell_type": "markdown",
   "metadata": {},
   "source": [
    "Due to the limitations of the http request from Four-Square-Api,the data is acquired only within a radius of 500"
   ]
  },
  {
   "cell_type": "markdown",
   "metadata": {},
   "source": [
    "__CLUSTERING TECHNIQUE__"
   ]
  },
  {
   "cell_type": "markdown",
   "metadata": {},
   "source": [
    "Unsupervised Machine Learning technique \"K-MEANS CLUSTERING\""
   ]
  },
  {
   "cell_type": "markdown",
   "metadata": {},
   "source": [
    "__LIBRARIES/MODULES USED__"
   ]
  },
  {
   "cell_type": "markdown",
   "metadata": {},
   "source": [
    "1)Pandas\n",
    "\n",
    "2)Numpy\n",
    "\n",
    "3)Requests\n",
    "\n",
    "4)Folium\n",
    "\n",
    "5)Geocoder\n",
    "\n",
    "6)Matplotlib"
   ]
  },
  {
   "cell_type": "code",
   "execution_count": null,
   "metadata": {},
   "outputs": [],
   "source": []
  }
 ],
 "metadata": {
  "kernelspec": {
   "display_name": "Python 3",
   "language": "python",
   "name": "python3"
  },
  "language_info": {
   "codemirror_mode": {
    "name": "ipython",
    "version": 3
   },
   "file_extension": ".py",
   "mimetype": "text/x-python",
   "name": "python",
   "nbconvert_exporter": "python",
   "pygments_lexer": "ipython3",
   "version": "3.7.3"
  }
 },
 "nbformat": 4,
 "nbformat_minor": 2
}
