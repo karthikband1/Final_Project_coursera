{
 "cells": [
  {
   "cell_type": "markdown",
   "metadata": {},
   "source": [
    "__THE BATTLE OF NEIGHBORHOODS__"
   ]
  },
  {
   "cell_type": "markdown",
   "metadata": {},
   "source": [
    "__DATA ACQUIRING__"
   ]
  },
  {
   "cell_type": "markdown",
   "metadata": {},
   "source": [
    "Will acquire the data set from the following link for canada\n",
    "\n",
    "https://en.wikipedia.org/wiki/List_of_postal_codes_of_Canada:_M\n",
    "\n",
    "For Langitudes and Latitudes we use the data set acquired from the following link\n",
    "\n",
    "\"https://cocl.us/Geospatial_data\""
   ]
  },
  {
   "cell_type": "markdown",
   "metadata": {},
   "source": [
    "__DATA ACQUIRED FROM FOUR SQUARE API__"
   ]
  },
  {
   "cell_type": "markdown",
   "metadata": {},
   "source": [
    "The data retrieved from Foursquare contained information of venues within a specified distance of the longitude and latitude of the postcodes. The information obtained per venue as follows:\n",
    "\n",
    "1)Neighborhood\n",
    "\n",
    "2)Neighborhood Latitude\n",
    "\n",
    "3)Neighborhood Longitude\n",
    "\n",
    "4)Venue\n",
    "\n",
    "5)Name of the venue e.g. the name of a store or restaurant\n",
    "\n",
    "6)Venue Latitude\n",
    "\n",
    "7)Venue Longitude\n",
    "\n",
    "8)Venue Category"
   ]
  },
  {
   "cell_type": "code",
   "execution_count": null,
   "metadata": {},
   "outputs": [],
   "source": []
  }
 ],
 "metadata": {
  "kernelspec": {
   "display_name": "Python 3",
   "language": "python",
   "name": "python3"
  },
  "language_info": {
   "codemirror_mode": {
    "name": "ipython",
    "version": 3
   },
   "file_extension": ".py",
   "mimetype": "text/x-python",
   "name": "python",
   "nbconvert_exporter": "python",
   "pygments_lexer": "ipython3",
   "version": "3.7.3"
  }
 },
 "nbformat": 4,
 "nbformat_minor": 2
}
